{
 "cells": [
  {
   "cell_type": "markdown",
   "metadata": {},
   "source": [
    "# Neural Style Transfer\n",
    "\n",
    "In this project we trained a custom Neural Style Transfer (NST) model that can take a realisic content image and apply a style (painting)."
   ]
  },
  {
   "cell_type": "code",
   "execution_count": 1,
   "metadata": {},
   "outputs": [],
   "source": [
    "import torch\n",
    "import torch.nn as nn\n",
    "import torch.optim as optimization\n",
    "import numpy as np\n",
    "\n",
    "import torchvision.models as models\n",
    "import torchvision.transforms as transforms\n",
    "from torchvision.utils import save_image\n",
    "\n",
    "from tqdm.notebook import tqdm\n",
    "from PIL import Image"
   ]
  },
  {
   "cell_type": "markdown",
   "metadata": {},
   "source": [
    "We'll crop the original images (content and style) to be at the same dimenstions. We'll define a crop function that crops 512x512 pixels from the center of each image:"
   ]
  },
  {
   "cell_type": "code",
   "execution_count": 2,
   "metadata": {},
   "outputs": [],
   "source": [
    "def crop_it(img):\n",
    "    image = Image.open(img)\n",
    "    width, height = image.size\n",
    "    left = (width-512)/2\n",
    "    right = left+512\n",
    "    top = (height-512)/2\n",
    "    bottom = top+512\n",
    "    cropped_img = image.crop((left, top, right, bottom))\n",
    "    cropped_img.save(\"C:/Users/itayg/Documents/Portfolio/style_crop.jpg\")\n",
    "    return cropped_img.show"
   ]
  },
  {
   "cell_type": "markdown",
   "metadata": {},
   "source": [
    "Let's apply it on each image:"
   ]
  },
  {
   "cell_type": "code",
   "execution_count": 3,
   "metadata": {},
   "outputs": [
    {
     "data": {
      "text/plain": [
       "<bound method Image.show of <PIL.Image.Image image mode=RGB size=512x512 at 0x2C5766FAF10>>"
      ]
     },
     "execution_count": 3,
     "metadata": {},
     "output_type": "execute_result"
    }
   ],
   "source": [
    "crop_it('C:/Users/itayg/Documents/Portfolio/style.jpg')\n",
    "crop_it('C:/Users/itayg/Documents/Portfolio/content.jpg')"
   ]
  },
  {
   "cell_type": "markdown",
   "metadata": {},
   "source": [
    "## Loss functions\n",
    "### Content loss function\n",
    "\n",
    "We'll implement a function to calculate the content loss which is the squared error loss between the two feature vectors of the content image and the target image."
   ]
  },
  {
   "cell_type": "code",
   "execution_count": null,
   "metadata": {},
   "outputs": [],
   "source": [
    "def get_content_loss(target_vec, content_vec):\n",
    "  return torch.mean((target_vec-content_vec)**2)"
   ]
  },
  {
   "cell_type": "markdown",
   "metadata": {},
   "source": [
    "### Style loss function\n",
    "\n",
    "We'll implement a function to calculate the style loss by using Gram matrix. The total loss is the sum of every mean-squared distance (between two gram matrices of the style and the target images) for every layer times the weighted factor (the influence factor) of every layer."
   ]
  },
  {
   "cell_type": "code",
   "execution_count": null,
   "metadata": {},
   "outputs": [],
   "source": [
    "def gram_matrix(input, c, h, w):\n",
    "  #c-channels; h-height; w-width \n",
    "  input = input.view(c, h*w) \n",
    "  #matrix multiplication on its own transposed form\n",
    "  G = torch.mm(input, input.t())\n",
    "  return G\n",
    "  \n",
    "def get_style_loss(target, style):\n",
    "  _, c, h, w = target.size()\n",
    "  G = gram_matrix(target, c, h, w) #gram matrix for the target image\n",
    "  S = gram_matrix(style, c, h, w) #gram matrix for the style image\n",
    "  return torch.mean((G-S)**2)/(c*h*w)"
   ]
  },
  {
   "cell_type": "markdown",
   "metadata": {},
   "source": [
    "### The model (loading a pretrained VGG19 and modifying it)\n",
    "We will use only 5 layers from the model (conv layers) just for feature extraction. We remove other layers used for classification."
   ]
  },
  {
   "cell_type": "code",
   "execution_count": 4,
   "metadata": {},
   "outputs": [],
   "source": [
    "device = torch.device('cuda' if torch.cuda.is_available() else 'cpu')\n",
    "class VGG(nn.Module):\n",
    "  def __init__(self):\n",
    "    super(VGG, self).__init__()\n",
    "    self.select_features = ['0', '5', '10', '19', '28'] #conv layers\n",
    "    self.vgg = models.vgg19(pretrained=True).features\n",
    "  \n",
    "  def forward(self, output):\n",
    "    features = []\n",
    "    for name, layer in self.vgg._modules.items():\n",
    "      output = layer(output)\n",
    "      if name in self.select_features:\n",
    "        features.append(output)\n",
    "    return features\n",
    "\n",
    "#load the model\n",
    "vgg = VGG().to(device).eval()"
   ]
  },
  {
   "cell_type": "code",
   "execution_count": null,
   "metadata": {},
   "outputs": [],
   "source": [
    "# Define the transformation\n",
    "loader = transforms.Compose([\n",
    "    transforms.Resize((512, 512)),  # Resize image\n",
    "    transforms.ToTensor(),          # Convert image to tensor\n",
    "])"
   ]
  },
  {
   "cell_type": "markdown",
   "metadata": {},
   "source": [
    "Load image function:"
   ]
  },
  {
   "cell_type": "code",
   "execution_count": 5,
   "metadata": {},
   "outputs": [],
   "source": [
    "def load_img(path):\n",
    "  img = Image.open(path)\n",
    "  img = loader(img).unsqueeze(0)\n",
    "  return img.to(device)"
   ]
  },
  {
   "cell_type": "code",
   "execution_count": 7,
   "metadata": {},
   "outputs": [],
   "source": [
    "\n",
    "# Define the transformation\n",
    "loader = transforms.Compose([\n",
    "    transforms.Resize((512, 512)),  # Resize image\n",
    "    transforms.ToTensor(),          # Convert image to tensor\n",
    "    transforms.Normalize([0.485, 0.456, 0.406], [0.229, 0.224, 0.225])\n",
    "])\n",
    "\n",
    "content_img = load_img('C:/Users/itayg/Documents/portfolio/content_crop.jpg')\n",
    "style_img = load_img('C:/Users/itayg/Documents/portfolio/style_crop.jpg')\n",
    "#we can start from a random noise generated image or \n",
    "#just copy the content image as a starting point\n",
    "target_img = content_img.clone().requires_grad_(True)\n",
    "device = torch.device('cuda' if torch.cuda.is_available() else 'cpu')\n",
    "img_size = 512 if torch.cuda.is_available() else 128\n",
    "#preprocessing of the images\n",
    "loader = transforms.Compose([\n",
    "                             transforms.Resize(img_size), \n",
    "                             transforms.ToTensor(),\n",
    "                             transforms.Normalize([0.485, 0.456, 0.406], [0.229, 0.224, 0.225])])\n",
    "\n",
    "def load_img(path):\n",
    "  img = Image.open(path)\n",
    "  img = loader(img).unsqueeze(0)\n",
    "  return img.to(device)\n",
    "\n",
    "#initial model\n",
    "model = models.vgg19(pretrained=True).features\n",
    "#the optimizer: We use Adam since it's generally more adequate\n",
    "optimizer = optimization.Adam([target_img], lr=0.001)\n",
    "\n",
    "steps = 1000\n",
    "alpha = 1 #content wight\n",
    "beta = 10000 #style weight\n",
    "\n",
    "#define the load_img function first\n",
    "content_img = load_img('C:/Users/itayg/Documents/portfolio/content_crop.jpg')\n",
    "style_img = load_img('C:/Users/itayg/Documents/portfolio/style_crop.jpg')\n",
    "#we can start from a random noise generated image or \n",
    "#just copy the content image as a starting point\n",
    "def ranom_noise(img):\n",
    " height, width = content_img.shape[:2]\n",
    " output_img = np.random.randn(height, width)\n",
    " return output_img\n"
   ]
  },
  {
   "cell_type": "markdown",
   "metadata": {},
   "source": [
    "Loss calculation:"
   ]
  },
  {
   "cell_type": "code",
   "execution_count": null,
   "metadata": {},
   "outputs": [],
   "source": [
    "#Function for saving and transforming the images:\n",
    "\n",
    "def save(target, i):\n",
    "  #the image needs to be denormalized first\n",
    "  denormalization = transforms.Normalize((-2.12, -2.04, -1.80), (4.37, 4.46, 4.44))\n",
    "  #remove the additional dimension\n",
    "  img = target.clone().squeeze()\n",
    "  img = denormalization(img).clamp(0, 1)\n",
    "  save_image(img, f'result_{i}.png')\n",
    "\n",
    "steps = 10000\n",
    "target_img = content_img.clone().requires_grad_(True)\n",
    "for step in tqdm(range(steps)):\n",
    "  #get feature vectors representations for every image\n",
    "  target_feature = vgg(target_img)\n",
    "  content_feature = vgg(content_img)\n",
    "  style_feature = vgg(style_img)\n",
    "\n",
    "  #initiate the losses\n",
    "  style_loss = 0\n",
    "  content_loss = 0\n",
    "\n",
    "  for target, content, style in zip(target_feature, content_feature, style_feature):\n",
    "    content_loss += get_content_loss(target, content)\n",
    "    style_loss += get_style_loss(target, style)\n",
    "  \n",
    "  #calculate the total loss \n",
    "  total_loss = alpha*content_loss+beta*style_loss\n",
    "  \n",
    "  #set parameters to zero\n",
    "  optimizer.zero_grad()\n",
    "  #compute the gradient\n",
    "  total_loss.backward()\n",
    "  #update parameters\n",
    "  optimizer.step()\n",
    "\n",
    "  #Let's follow the progress every 500 steps:\n",
    "  if step%500 == 0:\n",
    "    save(target_img, step)\n"
   ]
  },
  {
   "cell_type": "code",
   "execution_count": null,
   "metadata": {},
   "outputs": [],
   "source": [
    "def save(target, i):\n",
    "  #the image needs to be denormalized first\n",
    "  denormalization = transforms.Normalize((-2.12, -2.04, -1.80), (4.37, 4.46, 4.44))\n",
    "  #remove the additional dimension\n",
    "  img = target.clone().squeeze()\n",
    "  img = denormalization(img).clamp(0, 1)\n",
    "  save_image(img, f'result_{i}.png')"
   ]
  }
 ],
 "metadata": {
  "kernelspec": {
   "display_name": "torch",
   "language": "python",
   "name": "python3"
  },
  "language_info": {
   "codemirror_mode": {
    "name": "ipython",
    "version": 3
   },
   "file_extension": ".py",
   "mimetype": "text/x-python",
   "name": "python",
   "nbconvert_exporter": "python",
   "pygments_lexer": "ipython3",
   "version": "3.8.12"
  }
 },
 "nbformat": 4,
 "nbformat_minor": 2
}
