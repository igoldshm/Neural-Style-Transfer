{
 "cells": [
  {
   "cell_type": "markdown",
   "metadata": {},
   "source": [
    "# Neural Style Transfer\n",
    "\n",
    "In this project we trained a custom Neural Style Transfer (NST) model that can take a realisic content image and apply a style (painting)."
   ]
  },
  {
   "cell_type": "code",
   "execution_count": null,
   "metadata": {},
   "outputs": [],
   "source": [
    "import torch\n",
    "import torch.nn as nn\n",
    "import torch.optim as optimization\n",
    "\n",
    "import torchvision.models as models\n",
    "import torchvision.transforms as transforms\n",
    "from torchvision.utils import save_image\n",
    "\n",
    "from tqdm.notebook import tqdm\n",
    "from PIL import Image"
   ]
  },
  {
   "cell_type": "markdown",
   "metadata": {},
   "source": [
    "### Content loss function\n",
    "\n",
    "We'll implement a function to calculate the content loss which is the squared error loss between the two feature vectors of the content image and the target image."
   ]
  },
  {
   "cell_type": "code",
   "execution_count": null,
   "metadata": {},
   "outputs": [],
   "source": [
    "def get_content_loss(target_vec, content_vec):\n",
    "  return torch.mean((target_vec-content_vec)**2)"
   ]
  },
  {
   "cell_type": "markdown",
   "metadata": {},
   "source": [
    "### Style loss function\n",
    "\n",
    "We'll implement a function to calculate the style loss by using Gram matrix. The total loss is the sum of every mean-squared distance (between two gram matrices of the style and the target images) for every layer times the weighted factor (the influence factor) of every layer."
   ]
  },
  {
   "cell_type": "code",
   "execution_count": null,
   "metadata": {},
   "outputs": [],
   "source": [
    "def gram_matrix(input, c, h, w):\n",
    "  #c-channels; h-height; w-width \n",
    "  input = input.view(c, h*w) \n",
    "  #matrix multiplication on its own transposed form\n",
    "  G = torch.mm(input, input.t())\n",
    "  return G\n",
    "  \n",
    "def get_style_loss(target, style):\n",
    "  _, c, h, w = target.size()\n",
    "  G = gram_matrix(target, c, h, w) #gram matrix for the target image\n",
    "  S = gram_matrix(style, c, h, w) #gram matrix for the style image\n",
    "  return torch.mean((G-S)**2)/(c*h*w)"
   ]
  },
  {
   "cell_type": "markdown",
   "metadata": {},
   "source": [
    "### The model"
   ]
  },
  {
   "cell_type": "code",
   "execution_count": null,
   "metadata": {},
   "outputs": [],
   "source": [
    "#class for loading the vgg19 model with wanted layers\n",
    "class VGG(nn.Module):\n",
    "  def __init__(self):\n",
    "    super(VGG, self).__init__()\n",
    "    self.select_features = ['0', '5', '10', '19', '28'] #conv layers\n",
    "    self.vgg = models.vgg19(pretrained=True).features\n",
    "  \n",
    "  def forward(self, output):\n",
    "    features = []\n",
    "    for name, layer in self.vgg._modules.items():\n",
    "      output = layer(output)\n",
    "      if name in self.select_features:\n",
    "        features.append(output)\n",
    "    return features\n",
    "\n",
    "#load the model\n",
    "vgg = VGG().to(device).eval()"
   ]
  }
 ],
 "metadata": {
  "kernelspec": {
   "display_name": "torch",
   "language": "python",
   "name": "python3"
  },
  "language_info": {
   "codemirror_mode": {
    "name": "ipython",
    "version": 3
   },
   "file_extension": ".py",
   "mimetype": "text/x-python",
   "name": "python",
   "nbconvert_exporter": "python",
   "pygments_lexer": "ipython3",
   "version": "3.8.12"
  }
 },
 "nbformat": 4,
 "nbformat_minor": 2
}
